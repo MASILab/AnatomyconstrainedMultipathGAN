{
 "cells": [
  {
   "cell_type": "code",
   "execution_count": 1,
   "metadata": {},
   "outputs": [],
   "source": [
    "import numpy as np\n",
    "import matplotlib.pyplot as plt\n",
    "import nibabel as nib"
   ]
  },
  {
   "cell_type": "code",
   "execution_count": 17,
   "metadata": {},
   "outputs": [
    {
     "data": {
      "image/png": "[encoded data removed]",
      "text/plain": [
       "<Figure size 640x480 with 1 Axes>"
      ]
     },
     "metadata": {},
     "output_type": "display_data"
    }
   ],
   "source": [
    "#Available masks: muslce, fat, all lung lobes, liver, heart, aorta, kidneys\n",
    "llll = nib.load(\"/valiant02/masi/krishar1/TotalSegmentator_masks_CTkernel_MIDL/B30f_B50f/hard_masked/122924/segmentations/lung_lower_lobe_left.nii.gz\")\n",
    "lllr = nib.load(\"/valiant02/masi/krishar1/TotalSegmentator_masks_CTkernel_MIDL/B30f_B50f/hard_masked/122924/segmentations/lung_lower_lobe_right.nii.gz\")\n",
    "lull = nib.load(\"/valiant02/masi/krishar1/TotalSegmentator_masks_CTkernel_MIDL/B30f_B50f/hard_masked/122924/segmentations/lung_upper_lobe_left.nii.gz\")\n",
    "lulr = nib.load(\"/valiant02/masi/krishar1/TotalSegmentator_masks_CTkernel_MIDL/B30f_B50f/hard_masked/122924/segmentations/lung_upper_lobe_right.nii.gz\")\n",
    "lulm = nib.load(\"/valiant02/masi/krishar1/TotalSegmentator_masks_CTkernel_MIDL/B30f_B50f/hard_masked/122924/segmentations/lung_middle_lobe_right.nii.gz\")\n",
    "skeletal_muscle = nib.load(\"/valiant02/masi/krishar1/TotalSegmentator_masks_CTkernel_MIDL/B30f_B50f/hard_masked/122924/segmentations/skeletal_muscle.nii.gz\")\n",
    "fat = nib.load(\"/valiant02/masi/krishar1/TotalSegmentator_masks_CTkernel_MIDL/B30f_B50f/hard_masked/122924/segmentations/subcutaneous_fat.nii.gz\")\n",
    "trachea = nib.load(\"/valiant02/masi/krishar1/TotalSegmentator_masks_CTkernel_MIDL/B30f_B50f/hard_masked/122924/segmentations/trachea.nii.gz\")\n",
    "liver = nib.load(\"/valiant02/masi/krishar1/TotalSegmentator_masks_CTkernel_MIDL/B30f_B50f/hard_masked/122924/segmentations/liver.nii.gz\")\n",
    "heart = nib.load(\"/valiant02/masi/krishar1/TotalSegmentator_masks_CTkernel_MIDL/B30f_B50f/hard_masked/122924/segmentations/heart.nii.gz\")\n",
    "aorta = nib.load(\"/valiant02/masi/krishar1/TotalSegmentator_masks_CTkernel_MIDL/B30f_B50f/hard_masked/122924/segmentations/aorta.nii.gz\")\n",
    "kidney_left = nib.load(\"/valiant02/masi/krishar1/TotalSegmentator_masks_CTkernel_MIDL/B30f_B50f/hard_masked/122924/segmentations/kidney_left.nii.gz\")\n",
    "kidney_right = nib.load(\"/valiant02/masi/krishar1/TotalSegmentator_masks_CTkernel_MIDL/B30f_B50f/hard_masked/122924/segmentations/kidney_right.nii.gz\")\n",
    "pancreas = nib.load(\"/valiant02/masi/krishar1/TotalSegmentator_masks_CTkernel_MIDL/B30f_B50f/hard_masked/122924/segmentations/pancreas.nii.gz\")\n",
    "carotid_left = nib.load(\"/valiant02/masi/krishar1/TotalSegmentator_masks_CTkernel_MIDL/B30f_B50f/hard_masked/122924/segmentations/common_carotid_artery_left.nii.gz\")\n",
    "carotid_right = nib.load(\"/valiant02/masi/krishar1/TotalSegmentator_masks_CTkernel_MIDL/B30f_B50f/hard_masked/122924/segmentations/common_carotid_artery_right.nii.gz\")\n",
    "inf_vena_cava = nib.load(\"/valiant02/masi/krishar1/TotalSegmentator_masks_CTkernel_MIDL/B30f_B50f/hard_masked/122924/segmentations/inferior_vena_cava.nii.gz\")\n",
    "pulmonary_vein = nib.load(\"/valiant02/masi/krishar1/TotalSegmentator_masks_CTkernel_MIDL/B30f_B50f/hard_masked/122924/segmentations/pulmonary_vein.nii.gz\")\n",
    "subclav_left = nib.load(\"/valiant02/masi/krishar1/TotalSegmentator_masks_CTkernel_MIDL/B30f_B50f/hard_masked/122924/segmentations/subclavian_artery_left.nii.gz\")\n",
    "subclav_right = nib.load(\"/valiant02/masi/krishar1/TotalSegmentator_masks_CTkernel_MIDL/B30f_B50f/hard_masked/122924/segmentations/subclavian_artery_right.nii.gz\")\n",
    "superior_vena_cava = nib.load(\"/valiant02/masi/krishar1/TotalSegmentator_masks_CTkernel_MIDL/B30f_B50f/hard_masked/122924/segmentations/superior_vena_cava.nii.gz\")\n",
    "rib_left_1 = nib.load(\"/valiant02/masi/krishar1/TotalSegmentator_masks_CTkernel_MIDL/B30f_B50f/hard_masked/122924/segmentations/rib_left_1.nii.gz\")\n",
    "rib_left_2 = nib.load(\"/valiant02/masi/krishar1/TotalSegmentator_masks_CTkernel_MIDL/B30f_B50f/hard_masked/122924/segmentations/rib_left_2.nii.gz\")\n",
    "rib_left_3 = nib.load(\"/valiant02/masi/krishar1/TotalSegmentator_masks_CTkernel_MIDL/B30f_B50f/hard_masked/122924/segmentations/rib_left_3.nii.gz\")\n",
    "rib_left_4 = nib.load(\"/valiant02/masi/krishar1/TotalSegmentator_masks_CTkernel_MIDL/B30f_B50f/hard_masked/122924/segmentations/rib_left_4.nii.gz\")\n",
    "rib_left_5 = nib.load(\"/valiant02/masi/krishar1/TotalSegmentator_masks_CTkernel_MIDL/B30f_B50f/hard_masked/122924/segmentations/rib_left_5.nii.gz\")\n",
    "rib_left_6 = nib.load(\"/valiant02/masi/krishar1/TotalSegmentator_masks_CTkernel_MIDL/B30f_B50f/hard_masked/122924/segmentations/rib_left_6.nii.gz\")\n",
    "rib_left_7 = nib.load(\"/valiant02/masi/krishar1/TotalSegmentator_masks_CTkernel_MIDL/B30f_B50f/hard_masked/122924/segmentations/rib_left_7.nii.gz\")\n",
    "rib_left_8 = nib.load(\"/valiant02/masi/krishar1/TotalSegmentator_masks_CTkernel_MIDL/B30f_B50f/hard_masked/122924/segmentations/rib_left_8.nii.gz\")\n",
    "rib_left_9 = nib.load(\"/valiant02/masi/krishar1/TotalSegmentator_masks_CTkernel_MIDL/B30f_B50f/hard_masked/122924/segmentations/rib_left_9.nii.gz\")\n",
    "rib_left_10 = nib.load(\"/valiant02/masi/krishar1/TotalSegmentator_masks_CTkernel_MIDL/B30f_B50f/hard_masked/122924/segmentations/rib_left_10.nii.gz\")\n",
    "rib_left_11 = nib.load(\"/valiant02/masi/krishar1/TotalSegmentator_masks_CTkernel_MIDL/B30f_B50f/hard_masked/122924/segmentations/rib_left_11.nii.gz\")\n",
    "rib_left_12 = nib.load(\"/valiant02/masi/krishar1/TotalSegmentator_masks_CTkernel_MIDL/B30f_B50f/hard_masked/122924/segmentations/rib_left_12.nii.gz\")\n",
    "rib_right_1 = nib.load(\"/valiant02/masi/krishar1/TotalSegmentator_masks_CTkernel_MIDL/B30f_B50f/hard_masked/122924/segmentations/rib_right_1.nii.gz\")\n",
    "rib_right_2 = nib.load(\"/valiant02/masi/krishar1/TotalSegmentator_masks_CTkernel_MIDL/B30f_B50f/hard_masked/122924/segmentations/rib_right_2.nii.gz\")\n",
    "rib_right_3 = nib.load(\"/valiant02/masi/krishar1/TotalSegmentator_masks_CTkernel_MIDL/B30f_B50f/hard_masked/122924/segmentations/rib_right_3.nii.gz\")\n",
    "rib_right_4 = nib.load(\"/valiant02/masi/krishar1/TotalSegmentator_masks_CTkernel_MIDL/B30f_B50f/hard_masked/122924/segmentations/rib_right_4.nii.gz\")\n",
    "rib_right_5 = nib.load(\"/valiant02/masi/krishar1/TotalSegmentator_masks_CTkernel_MIDL/B30f_B50f/hard_masked/122924/segmentations/rib_right_5.nii.gz\")\n",
    "rib_right_6 = nib.load(\"/valiant02/masi/krishar1/TotalSegmentator_masks_CTkernel_MIDL/B30f_B50f/hard_masked/122924/segmentations/rib_right_6.nii.gz\")\n",
    "rib_right_7 = nib.load(\"/valiant02/masi/krishar1/TotalSegmentator_masks_CTkernel_MIDL/B30f_B50f/hard_masked/122924/segmentations/rib_right_7.nii.gz\")\n",
    "rib_right_8 = nib.load(\"/valiant02/masi/krishar1/TotalSegmentator_masks_CTkernel_MIDL/B30f_B50f/hard_masked/122924/segmentations/rib_right_8.nii.gz\")\n",
    "rib_right_9 = nib.load(\"/valiant02/masi/krishar1/TotalSegmentator_masks_CTkernel_MIDL/B30f_B50f/hard_masked/122924/segmentations/rib_right_9.nii.gz\")\n",
    "rib_right_10 = nib.load(\"/valiant02/masi/krishar1/TotalSegmentator_masks_CTkernel_MIDL/B30f_B50f/hard_masked/122924/segmentations/rib_right_10.nii.gz\")\n",
    "rib_right_11 = nib.load(\"/valiant02/masi/krishar1/TotalSegmentator_masks_CTkernel_MIDL/B30f_B50f/hard_masked/122924/segmentations/rib_right_11.nii.gz\")\n",
    "rib_right_12 = nib.load(\"/valiant02/masi/krishar1/TotalSegmentator_masks_CTkernel_MIDL/B30f_B50f/hard_masked/122924/segmentations/rib_right_12.nii.gz\")\n",
    "\n",
    "\n",
    "llll_data = llll.get_fdata()\n",
    "lllr_data = lllr.get_fdata()\n",
    "lull_data = lull.get_fdata()\n",
    "lulr_data = lulr.get_fdata()\n",
    "lulm_data = lulm.get_fdata()\n",
    "skeletal_muscle_data = skeletal_muscle.get_fdata()\n",
    "fat_data = fat.get_fdata()\n",
    "trachea_data = trachea.get_fdata()\n",
    "liver_data = liver.get_fdata()\n",
    "heart_data = heart.get_fdata()\n",
    "aorta_data = aorta.get_fdata()\n",
    "kidney_left_data = kidney_left.get_fdata()\n",
    "kidney_right_data = kidney_right.get_fdata()\n",
    "pancreas_data = pancreas.get_fdata()\n",
    "carotid_left_data = carotid_left.get_fdata()\n",
    "carotid_right_data = carotid_right.get_fdata()\n",
    "inf_vena_cava_data = inf_vena_cava.get_fdata()\n",
    "pulmonary_vein_data = pulmonary_vein.get_fdata()\n",
    "subclav_left_data = subclav_left.get_fdata()\n",
    "subclav_right_data = subclav_right.get_fdata()\n",
    "superior_vena_cava_data = superior_vena_cava.get_fdata()\n",
    "rib_left_1_data = rib_left_1.get_fdata()\n",
    "rib_left_2_data = rib_left_2.get_fdata()\n",
    "rib_left_3_data = rib_left_3.get_fdata()\n",
    "rib_left_4_data = rib_left_4.get_fdata()\n",
    "rib_left_5_data = rib_left_5.get_fdata()\n",
    "rib_left_6_data = rib_left_6.get_fdata()\n",
    "rib_left_7_data = rib_left_7.get_fdata()\n",
    "rib_left_8_data = rib_left_8.get_fdata()\n",
    "rib_left_9_data = rib_left_9.get_fdata()\n",
    "rib_left_10_data = rib_left_10.get_fdata()\n",
    "rib_left_11_data = rib_left_11.get_fdata()\n",
    "rib_left_12_data = rib_left_12.get_fdata()\n",
    "rib_right_1_data = rib_right_1.get_fdata()\n",
    "rib_right_2_data = rib_right_2.get_fdata()\n",
    "rib_right_3_data = rib_right_3.get_fdata()\n",
    "rib_right_4_data = rib_right_4.get_fdata()\n",
    "rib_right_5_data = rib_right_5.get_fdata()\n",
    "rib_right_6_data = rib_right_6.get_fdata()\n",
    "rib_right_7_data = rib_right_7.get_fdata()\n",
    "rib_right_8_data = rib_right_8.get_fdata()\n",
    "rib_right_9_data = rib_right_9.get_fdata()\n",
    "rib_right_10_data = rib_right_10.get_fdata()\n",
    "rib_right_11_data = rib_right_11.get_fdata()\n",
    "rib_right_12_data = rib_right_12.get_fdata()\n",
    "\n",
    "\n",
    "\n",
    "#Combine all lung lobes to make a single mask\n",
    "mask = np.zeros(shape = llll_data.shape, dtype = np.uint8)\n",
    "mask[llll_data == 1] = 1\n",
    "mask[lllr_data == 1] = 1\n",
    "mask[lull_data == 1] = 1\n",
    "mask[lulr_data == 1] = 1\n",
    "mask[lulm_data == 1] = 1\n",
    "mask[skeletal_muscle_data == 1] = 2\n",
    "mask[fat_data == 1] = 3\n",
    "mask[trachea_data == 1] = 4\n",
    "mask[liver_data == 1] = 5\n",
    "mask[kidney_left_data == 1] = 6\n",
    "mask[kidney_right_data == 1] = 6\n",
    "mask[heart_data == 1] = 7\n",
    "mask[aorta_data == 1] = 8\n",
    "mask[pancreas_data == 1] = 9\n",
    "mask[carotid_left_data == 1] = 10\n",
    "mask[carotid_right_data == 1] = 10\n",
    "mask[inf_vena_cava_data == 1] = 11\n",
    "mask[pulmonary_vein_data == 1] = 12\n",
    "mask[subclav_left_data == 1] = 13\n",
    "mask[subclav_right_data == 1] = 13\n",
    "mask[superior_vena_cava_data == 1] = 14\n",
    "mask[rib_left_1_data == 1] = 15\n",
    "mask[rib_left_2_data == 1] = 15\n",
    "mask[rib_left_3_data == 1] = 15\n",
    "mask[rib_left_4_data == 1] = 15\n",
    "mask[rib_left_5_data == 1] = 15\n",
    "mask[rib_left_6_data == 1] = 15\n",
    "mask[rib_left_7_data == 1] = 15\n",
    "mask[rib_left_8_data == 1] = 15\n",
    "mask[rib_left_9_data == 1] = 15\n",
    "mask[rib_left_10_data == 1] = 15\n",
    "mask[rib_left_11_data == 1] = 15\n",
    "mask[rib_left_12_data == 1] = 15\n",
    "mask[rib_right_1_data == 1] = 16\n",
    "mask[rib_right_2_data == 1] = 16\n",
    "mask[rib_right_3_data == 1] = 16\n",
    "mask[rib_right_4_data == 1] = 16\n",
    "mask[rib_right_5_data == 1] = 16\n",
    "mask[rib_right_6_data == 1] = 16\n",
    "mask[rib_right_7_data == 1] = 16\n",
    "mask[rib_right_8_data == 1] = 16\n",
    "mask[rib_right_9_data == 1] = 16\n",
    "mask[rib_right_10_data == 1] = 16\n",
    "mask[rib_right_11_data == 1] = 16\n",
    "mask[rib_right_12_data == 1] = 16\n",
    "\n",
    "\n",
    "#Plot the mask\n",
    "plt.imshow(mask[:,:,74])\n",
    "plt.show()"
   ]
  },
  {
   "cell_type": "code",
   "execution_count": 18,
   "metadata": {},
   "outputs": [
    {
     "name": "stdout",
     "output_type": "stream",
     "text": [
      "[ 0  1  2  3  4  5  6  7  8  9 10 11 12 13 14 15 16 17]\n"
     ]
    }
   ],
   "source": [
    "#find the unique values in the mask\n",
    "unique_values = np.unique(mask)\n",
    "print(unique_values)"
   ]
  },
  {
   "cell_type": "code",
   "execution_count": 19,
   "metadata": {},
   "outputs": [],
   "source": [
    "nifti_mask = nib.Nifti1Image(mask, llll.affine, llll.header)\n",
    "nib.save(nifti_mask, \"mask.nii.gz\")"
   ]
  },
  {
   "cell_type": "code",
   "execution_count": 20,
   "metadata": {},
   "outputs": [
    {
     "name": "stdout",
     "output_type": "stream",
     "text": [
      "float64\n",
      "uint8\n"
     ]
    }
   ],
   "source": [
    "#check data type \n",
    "print(llll_data.dtype)\n",
    "print(mask.dtype)"
   ]
  },
  {
   "cell_type": "code",
   "execution_count": null,
   "metadata": {},
   "outputs": [],
   "source": []
  }
 ],
 "metadata": {
  "kernelspec": {
   "display_name": "lung2",
   "language": "python",
   "name": "python3"
  },
  "language_info": {
   "codemirror_mode": {
    "name": "ipython",
    "version": 3
   },
   "file_extension": ".py",
   "mimetype": "text/x-python",
   "name": "python",
   "nbconvert_exporter": "python",
   "pygments_lexer": "ipython3",
   "version": "3.7.16"
  }
 },
 "nbformat": 4,
 "nbformat_minor": 2
}
