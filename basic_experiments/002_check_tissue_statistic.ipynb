{
 "cells": [
  {
   "cell_type": "code",
   "execution_count": 7,
   "metadata": {},
   "outputs": [],
   "source": [
    "from scipy.stats import entropy\n",
    "import nibabel as nib \n",
    "import numpy as np \n",
    "import matplotlib.pyplot as plt\n",
    "from scipy.interpolate import interp1d\n",
    "import torch"
   ]
  },
  {
   "cell_type": "code",
   "execution_count": 8,
   "metadata": {},
   "outputs": [
    {
     "data": {
      "text/plain": [
       "(-0.78437651960053, -0.7854122403153297)"
      ]
     },
     "execution_count": 8,
     "metadata": {},
     "output_type": "execute_result"
    }
   ],
   "source": [
    "#check which statistic is most useful to train model with segmentation masks\n",
    "# statistics include: mean, standard deviation, variance, skewnee, kurtosis, entropy\n",
    "\n",
    "#load in the data\n",
    "hard_image = '/media/krishar1/Elements1/AnatomyConstrainedMultipathGAN/B30f_B50f/hard_masked/118866/118866.nii.gz'\n",
    "soft_image = '/media/krishar1/Elements1/AnatomyConstrainedMultipathGAN/B30f_B50f/soft_masked/118866/118866.nii.gz'\n",
    "hard_img = nib.load(hard_image)\n",
    "soft_img = nib.load(soft_image)\n",
    "hard_data = hard_img.get_fdata()\n",
    "soft_data = soft_img.get_fdata()\n",
    "\n",
    "#Clip and normalize the image \n",
    "clipped_hard = np.clip(hard_data, -1024, 3072)\n",
    "clipped_soft = np.clip(soft_data, -1024, 3072)\n",
    "normalizer = interp1d([-1024,3072], [-1,1])\n",
    "norm_data_hard = normalizer(clipped_hard)\n",
    "norm_data_soft = normalizer(clipped_soft)\n",
    "\n",
    "#calculate the statistics\n",
    "hard_mean = np.mean(norm_data_hard)\n",
    "soft_mean = np.mean(norm_data_soft)\n",
    "hard_mean, soft_mean"
   ]
  },
  {
   "cell_type": "code",
   "execution_count": 9,
   "metadata": {},
   "outputs": [
    {
     "data": {
      "text/plain": [
       "(array([ 0.,  1.,  2.,  3.,  4.,  7.,  8., 14., 15., 16., 18., 25., 26.]),\n",
       " array([ 0.,  1.,  2.,  3.,  4.,  7.,  8., 14., 15., 16., 18., 25., 26.]))"
      ]
     },
     "execution_count": 9,
     "metadata": {},
     "output_type": "execute_result"
    }
   ],
   "source": [
    "hard_slice = nib.load(\"/home-local/Kernel_Conversion/AnatomyConstrainedMultipathGAN/AnatomyconstrainedMultipathGAN/training_data/train_siemens_masked_hard/118596_100.nii.gz\")\n",
    "soft_slice = nib.load(\"/home-local/Kernel_Conversion/AnatomyConstrainedMultipathGAN/AnatomyconstrainedMultipathGAN/training_data/train_siemens_masked_soft/118596_100.nii.gz\")\n",
    "hard_mask_slice = nib.load(\"/home-local/Kernel_Conversion/AnatomyConstrainedMultipathGAN/AnatomyconstrainedMultipathGAN/training_data/siemens_hard_mask_slices/118596_100.nii.gz\")\n",
    "soft_mask_slice = nib.load(\"/home-local/Kernel_Conversion/AnatomyConstrainedMultipathGAN/AnatomyconstrainedMultipathGAN/training_data/siemens_soft_mask_slices/118596_100.nii.gz\")\n",
    "\n",
    "hard_slice_data = hard_slice.get_fdata()[:,:,0]\n",
    "soft_slice_data = soft_slice.get_fdata()[:,:,0]\n",
    "hard_mask_slice_data = hard_mask_slice.get_fdata()[:,:,0]\n",
    "soft_mask_slice_data = soft_mask_slice.get_fdata()[:,:,0]\n",
    "\n",
    "normalizer = interp1d([-1024,3072], [-1,1])\n",
    "clipped_hard = np.clip(hard_slice_data, -1024, 3072)\n",
    "clipped_soft = np.clip(soft_slice_data, -1024, 3072)\n",
    "norm_data_hard = normalizer(clipped_hard)\n",
    "norm_data_soft = normalizer(clipped_soft)\n",
    "\n",
    "#Check the unique values in the mask\n",
    "np.unique(hard_mask_slice_data), np.unique(soft_mask_slice_data)"
   ]
  },
  {
   "cell_type": "code",
   "execution_count": 10,
   "metadata": {},
   "outputs": [
    {
     "data": {
      "text/plain": [
       "(-6.002999211840307,\n",
       " -6.00300900509957,\n",
       " 0.000497463598008678,\n",
       " 0.0003762428362173199)"
      ]
     },
     "execution_count": 10,
     "metadata": {},
     "output_type": "execute_result"
    }
   ],
   "source": [
    "#For every label in the mask, calculate the mean for the hard and soft image \n",
    "hard_means = []\n",
    "soft_means = []\n",
    "hard_std = []\n",
    "soft_std = []\n",
    "for label in np.unique(hard_mask_slice_data):\n",
    "    if label == 0:\n",
    "        continue\n",
    "    hard_means.append(np.mean(norm_data_hard[hard_mask_slice_data == label]))\n",
    "    soft_means.append(np.mean(norm_data_soft[soft_mask_slice_data == label]))\n",
    "    hard_std.append(np.std(norm_data_hard[hard_mask_slice_data == label]))\n",
    "    soft_std.append(np.std(norm_data_soft[soft_mask_slice_data == label]))\n",
    "\n",
    "#Sum hard and soft means\n",
    "hard_sum_mean = np.sum(hard_means)\n",
    "soft_sum_mean = np.sum(soft_means)\n",
    "\n",
    "hard_sum_std = np.sum(hard_std)\n",
    "soft_sum_std = np.sum(soft_std)\n",
    "hard_sum_mean, soft_sum_mean, hard_sum_std, soft_sum_std"
   ]
  },
  {
   "cell_type": "code",
   "execution_count": 11,
   "metadata": {},
   "outputs": [
    {
     "data": {
      "text/plain": [
       "(tensor([ 0.,  1.,  2.,  3.,  4.,  7.,  8., 14., 15., 16., 18., 25., 26.],\n",
       "        dtype=torch.float64),\n",
       " tensor([ 0.,  1.,  2.,  3.,  4.,  7.,  8., 14., 15., 16., 18., 25., 26.],\n",
       "        dtype=torch.float64))"
      ]
     },
     "execution_count": 11,
     "metadata": {},
     "output_type": "execute_result"
    }
   ],
   "source": [
    "torch.unique(torch.tensor(hard_mask_slice_data)), torch.unique(torch.tensor(soft_mask_slice_data))"
   ]
  },
  {
   "cell_type": "code",
   "execution_count": 12,
   "metadata": {},
   "outputs": [],
   "source": [
    "#Convert numpy array to a pytroch tensor of size (1,1,512,512)\n",
    "hard_tensor = torch.tensor(norm_data_hard).unsqueeze(0).unsqueeze(0)\n",
    "soft_tensor = torch.tensor(norm_data_soft).unsqueeze(0).unsqueeze(0)\n",
    "hard_mask_tensor = torch.tensor(hard_mask_slice_data).unsqueeze(0).unsqueeze(0)\n",
    "soft_mask_tensor = torch.tensor(soft_mask_slice_data).unsqueeze(0).unsqueeze(0)\n",
    "\n",
    "#Masks have multiple label, compute mean for each label\n",
    "hard_means = []\n",
    "soft_means = []\n",
    "hard_std = []\n",
    "soft_std = []\n",
    "for label in np.unique(hard_mask_tensor):\n",
    "    if label == 0:\n",
    "        continue\n",
    "    hard_means.append(torch.mean(hard_tensor[hard_mask_tensor == label]))\n",
    "    soft_means.append(torch.mean(soft_tensor[soft_mask_tensor == label]))\n",
    "    hard_std.append(torch.std(hard_tensor[hard_mask_tensor == label]))\n",
    "    soft_std.append(torch.std(soft_tensor[soft_mask_tensor == label]))\n",
    "\n"
   ]
  },
  {
   "cell_type": "code",
   "execution_count": 13,
   "metadata": {},
   "outputs": [
    {
     "data": {
      "text/plain": [
       "(tensor(-6.0030, dtype=torch.float64),\n",
       " tensor(-6.0030, dtype=torch.float64),\n",
       " tensor(0.0005, dtype=torch.float64),\n",
       " tensor(0.0004, dtype=torch.float64))"
      ]
     },
     "execution_count": 13,
     "metadata": {},
     "output_type": "execute_result"
    }
   ],
   "source": [
    "hard_sum_mean = torch.sum(torch.tensor(hard_means))\n",
    "soft_sum_mean = torch.sum(torch.tensor(soft_means))\n",
    "hard_sum_std = torch.sum(torch.tensor(hard_std))\n",
    "soft_sum_std = torch.sum(torch.tensor(soft_std))\n",
    "\n",
    "hard_sum_mean, soft_sum_mean, hard_sum_std, soft_sum_std"
   ]
  },
  {
   "cell_type": "code",
   "execution_count": 14,
   "metadata": {},
   "outputs": [
    {
     "data": {
      "text/plain": [
       "(tensor([ 0.,  1.,  2.,  3.,  4.,  7.,  8., 14., 15., 16., 18., 25., 26.],\n",
       "        dtype=torch.float64),\n",
       " tensor([ 0.,  1.,  2.,  3.,  4.,  7.,  8., 14., 15., 16., 18., 25., 26.],\n",
       "        dtype=torch.float64))"
      ]
     },
     "execution_count": 14,
     "metadata": {},
     "output_type": "execute_result"
    }
   ],
   "source": [
    "torch.unique(hard_mask_tensor), torch.unique(soft_mask_tensor)"
   ]
  },
  {
   "cell_type": "code",
   "execution_count": 1,
   "metadata": {},
   "outputs": [
    {
     "data": {
      "text/plain": [
       "{0: 'lung_lower_lobe_left.nii.gz',\n",
       " 1: 'lung_lower_lobe_right.nii.gz',\n",
       " 2: 'lung_upper_lobe_left.nii.gz',\n",
       " 3: 'lung_upper_lobe_right.nii.gz',\n",
       " 4: 'lung_middle_lobe_right.nii.gz',\n",
       " 5: 'skeletal_muscle.nii.gz',\n",
       " 6: 'subcutaneous_fat.nii.gz',\n",
       " 7: 'trachea.nii.gz',\n",
       " 8: 'liver.nii.gz',\n",
       " 9: 'heart.nii.gz',\n",
       " 10: 'aorta.nii.gz',\n",
       " 11: 'kidney_left.nii.gz',\n",
       " 12: 'kidney_right.nii.gz',\n",
       " 13: 'pancreas.nii.gz',\n",
       " 14: 'common_carotid_artery_left.nii.gz',\n",
       " 15: 'common_carotid_artery_right.nii.gz',\n",
       " 16: 'inferior_vena_cava.nii.gz',\n",
       " 17: 'pulmonary_vein.nii.gz',\n",
       " 18: 'subclavian_artery_left.nii.gz',\n",
       " 19: 'subclavian_artery_right.nii.gz',\n",
       " 20: 'superior_vena_cava.nii.gz',\n",
       " 21: 'rib_left_1.nii.gz',\n",
       " 22: 'rib_left_2.nii.gz',\n",
       " 23: 'rib_left_3.nii.gz',\n",
       " 24: 'rib_left_4.nii.gz',\n",
       " 25: 'rib_left_5.nii.gz',\n",
       " 26: 'rib_left_6.nii.gz',\n",
       " 27: 'rib_left_7.nii.gz',\n",
       " 28: 'rib_left_8.nii.gz',\n",
       " 29: 'rib_left_9.nii.gz',\n",
       " 30: 'rib_left_10.nii.gz',\n",
       " 31: 'rib_left_11.nii.gz',\n",
       " 32: 'rib_left_12.nii.gz',\n",
       " 33: 'rib_right_1.nii.gz',\n",
       " 34: 'rib_right_2.nii.gz',\n",
       " 35: 'rib_right_3.nii.gz',\n",
       " 36: 'rib_right_4.nii.gz',\n",
       " 37: 'rib_right_5.nii.gz',\n",
       " 38: 'rib_right_6.nii.gz',\n",
       " 39: 'rib_right_7.nii.gz',\n",
       " 40: 'rib_right_8.nii.gz',\n",
       " 41: 'rib_right_9.nii.gz',\n",
       " 42: 'rib_right_10.nii.gz',\n",
       " 43: 'rib_right_11.nii.gz',\n",
       " 44: 'rib_right_12.nii.gz',\n",
       " 45: 'spleen.nii.gz',\n",
       " 46: 'costal_cartilages.nii.gz',\n",
       " 47: 'adrenal_gland_left.nii.gz',\n",
       " 48: 'adrenal_gland_right.nii.gz',\n",
       " 49: 'colon.nii.gz',\n",
       " 50: 'clavicula_left.nii.gz',\n",
       " 51: 'clavicula_right.nii.gz',\n",
       " 52: 'duodenum.nii.gz',\n",
       " 53: 'gallbladder.nii.gz',\n",
       " 54: 'portal_vein_and_splenic_vein.nii.gz',\n",
       " 55: 'scapula_left.nii.gz',\n",
       " 56: 'scapula_right.nii.gz',\n",
       " 57: 'sternum.nii.gz',\n",
       " 58: 'brachiocephalic_trunk.nii.gz',\n",
       " 59: 'brachiocephalic_vein_left.nii.gz',\n",
       " 60: 'brachiocephalic_vein_right.nii.gz',\n",
       " 61: 'vertebrae_T1.nii.gz',\n",
       " 62: 'vertebrae_T2.nii.gz',\n",
       " 63: 'vertebrae_T3.nii.gz',\n",
       " 64: 'vertebrae_T4.nii.gz',\n",
       " 65: 'vertebrae_T5.nii.gz',\n",
       " 66: 'vertebrae_T6.nii.gz',\n",
       " 67: 'vertebrae_T7.nii.gz',\n",
       " 68: 'vertebrae_T8.nii.gz',\n",
       " 69: 'vertebrae_T9.nii.gz',\n",
       " 70: 'vertebrae_T10.nii.gz',\n",
       " 71: 'vertebrae_T11.nii.gz',\n",
       " 72: 'vertebrae_T12.nii.gz'}"
      ]
     },
     "execution_count": 1,
     "metadata": {},
     "output_type": "execute_result"
    }
   ],
   "source": [
    "masks = [\"lung_lower_lobe_left.nii.gz\", \"lung_lower_lobe_right.nii.gz\", \"lung_upper_lobe_left.nii.gz\", \"lung_upper_lobe_right.nii.gz\", \"lung_middle_lobe_right.nii.gz\",\n",
    "         \"skeletal_muscle.nii.gz\", \"subcutaneous_fat.nii.gz\", \"trachea.nii.gz\", \"liver.nii.gz\", \"heart.nii.gz\", \"aorta.nii.gz\", \"kidney_left.nii.gz\", \"kidney_right.nii.gz\",\n",
    "         \"pancreas.nii.gz\", \"common_carotid_artery_left.nii.gz\", \"common_carotid_artery_right.nii.gz\", \"inferior_vena_cava.nii.gz\", \"pulmonary_vein.nii.gz\", \n",
    "         \"subclavian_artery_left.nii.gz\", \"subclavian_artery_right.nii.gz\", \"superior_vena_cava.nii.gz\", \"rib_left_1.nii.gz\", \"rib_left_2.nii.gz\", \"rib_left_3.nii.gz\",\n",
    "         \"rib_left_4.nii.gz\", \"rib_left_5.nii.gz\", \"rib_left_6.nii.gz\", \"rib_left_7.nii.gz\", \"rib_left_8.nii.gz\", \"rib_left_9.nii.gz\", \"rib_left_10.nii.gz\",\n",
    "         \"rib_left_11.nii.gz\", \"rib_left_12.nii.gz\", \"rib_right_1.nii.gz\", \"rib_right_2.nii.gz\", \"rib_right_3.nii.gz\", \"rib_right_4.nii.gz\", \"rib_right_5.nii.gz\",\n",
    "         \"rib_right_6.nii.gz\", \"rib_right_7.nii.gz\", \"rib_right_8.nii.gz\", \"rib_right_9.nii.gz\", \"rib_right_10.nii.gz\", \"rib_right_11.nii.gz\", \"rib_right_12.nii.gz\", \"spleen.nii.gz\", \n",
    "         \"costal_cartilages.nii.gz\", \"adrenal_gland_left.nii.gz\", \"adrenal_gland_right.nii.gz\", \"colon.nii.gz\", \"clavicula_left.nii.gz\", \"clavicula_right.nii.gz\", \"duodenum.nii.gz\", \n",
    "         \"gallbladder.nii.gz\", \"portal_vein_and_splenic_vein.nii.gz\", \"scapula_left.nii.gz\", \"scapula_right.nii.gz\", \"sternum.nii.gz\", \"brachiocephalic_trunk.nii.gz\", \"brachiocephalic_vein_left.nii.gz\",\n",
    "         \"brachiocephalic_vein_right.nii.gz\", \"vertebrae_T1.nii.gz\", \"vertebrae_T2.nii.gz\", \"vertebrae_T3.nii.gz\", \"vertebrae_T4.nii.gz\", \"vertebrae_T5.nii.gz\", \"vertebrae_T6.nii.gz\",\n",
    "         \"vertebrae_T7.nii.gz\", \"vertebrae_T8.nii.gz\", \"vertebrae_T9.nii.gz\", \"vertebrae_T10.nii.gz\", \"vertebrae_T11.nii.gz\", \"vertebrae_T12.nii.gz\"]\n",
    "\n",
    "#convert to dictionary with index as key and mask as value\n",
    "mask_dict = {}\n",
    "for i, mask in enumerate(masks):\n",
    "    mask_dict[i] = mask\n",
    "\n",
    "mask_dict"
   ]
  },
  {
   "cell_type": "code",
   "execution_count": null,
   "metadata": {},
   "outputs": [],
   "source": []
  }
 ],
 "metadata": {
  "kernelspec": {
   "display_name": "lung2",
   "language": "python",
   "name": "python3"
  },
  "language_info": {
   "codemirror_mode": {
    "name": "ipython",
    "version": 3
   },
   "file_extension": ".py",
   "mimetype": "text/x-python",
   "name": "python",
   "nbconvert_exporter": "python",
   "pygments_lexer": "ipython3",
   "version": "3.7.16"
  }
 },
 "nbformat": 4,
 "nbformat_minor": 2
}
