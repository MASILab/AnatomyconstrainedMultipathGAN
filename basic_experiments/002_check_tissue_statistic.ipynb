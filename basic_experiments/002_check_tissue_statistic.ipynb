{
 "cells": [
  {
   "cell_type": "code",
   "execution_count": 10,
   "metadata": {},
   "outputs": [],
   "source": [
    "from scipy.stats import entropy\n",
    "import nibabel as nib \n",
    "import numpy as np \n",
    "import matplotlib.pyplot as plt"
   ]
  },
  {
   "cell_type": "code",
   "execution_count": 11,
   "metadata": {},
   "outputs": [],
   "source": [
    "#check which statistic is most useful to train model with segmentation masks\n",
    "# statistics include: mean, standard deviation, variance, skewnee, kurtosis, entropy\n",
    "\n",
    "#load in the data\n",
    "hard_image = '/valiant02/masi/krishar1/TotalSegmentator_masks_CTkernel_MIDL/B30f_B50f/hard_masked/119178/119178.nii.gz'\n",
    "soft_image = '/valiant02/masi/krishar1/TotalSegmentator_masks_CTkernel_MIDL/B30f_B50f/soft_masked/119178/119178.nii.gz'\n",
    "hard_img = nib.load(hard_image)\n",
    "soft_img = nib.load(soft_image)\n",
    "hard_data = hard_img.get_fdata()\n",
    "soft_data = soft_img.get_fdata()\n",
    "\n",
    "#calculate the statistics\n",
    "hard_mean = np.mean(hard_data)\n",
    "soft_mean = np.mean(soft_data)\n",
    "hard_std = np.std(hard_data)\n",
    "soft_std = np.std(soft_data)\n",
    "hard_var = np.var(hard_data)\n",
    "\n",
    "hard_ent = entropy(hard_data.flatten())\n",
    "soft_ent = entropy(soft_data.flatten())"
   ]
  },
  {
   "cell_type": "code",
   "execution_count": null,
   "metadata": {},
   "outputs": [
    {
     "data": {
      "text/plain": [
       "(29.43140775659209, 114.1758257725864, -103.8989985012111, 98.41642368046736)"
      ]
     },
     "execution_count": 16,
     "metadata": {},
     "output_type": "execute_result"
    }
   ],
   "source": [
    "# Load multiple masks. Explore mean and std of the image within the mask \n",
    "muscle = nib.load('/valiant02/masi/krishar1/TotalSegmentator_masks_CTkernel_MIDL/B30f_B50f/hard_masked/119178/segmentations/skeletal_muscle.nii.gz')\n",
    "fat = nib.load('/valiant02/masi/krishar1/TotalSegmentator_masks_CTkernel_MIDL/B30f_B50f/hard_masked/119178/segmentations/subcutaneous_fat.nii.gz')\n",
    "muscle_data = muscle.get_fdata()\n",
    "fat_data = fat.get_fdata()\n",
    "\n",
    "#calculate the statistics using the muscle mask in the image \n",
    "muscle_mean = np.mean(hard_data[muscle_data == 1])\n",
    "muscle_std = np.std(hard_data[muscle_data == 1])\n",
    "fat_mean = np.mean(hard_data[fat_data == 1])\n",
    "fat_std = np.std(hard_data[fat_data == 1])\n",
    "\n",
    "muscle_mean, muscle_std, fat_mean, fat_std"
   ]
  },
  {
   "cell_type": "code",
   "execution_count": null,
   "metadata": {},
   "outputs": [],
   "source": []
  }
 ],
 "metadata": {
  "kernelspec": {
   "display_name": "lung2",
   "language": "python",
   "name": "python3"
  },
  "language_info": {
   "codemirror_mode": {
    "name": "ipython",
    "version": 3
   },
   "file_extension": ".py",
   "mimetype": "text/x-python",
   "name": "python",
   "nbconvert_exporter": "python",
   "pygments_lexer": "ipython3",
   "version": "3.7.16"
  }
 },
 "nbformat": 4,
 "nbformat_minor": 2
}
