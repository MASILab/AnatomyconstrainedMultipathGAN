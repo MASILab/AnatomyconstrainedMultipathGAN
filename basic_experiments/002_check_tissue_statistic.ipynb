{
 "cells": [
  {
   "cell_type": "code",
   "execution_count": 1,
   "metadata": {},
   "outputs": [],
   "source": [
    "from scipy.stats import entropy\n",
    "import nibabel as nib \n",
    "import numpy as np \n",
    "import matplotlib.pyplot as plt\n",
    "from scipy.interpolate import interp1d"
   ]
  },
  {
   "cell_type": "code",
   "execution_count": 7,
   "metadata": {},
   "outputs": [
    {
     "data": {
      "text/plain": [
       "(-0.78437651960053, -0.7854122403153297)"
      ]
     },
     "execution_count": 7,
     "metadata": {},
     "output_type": "execute_result"
    }
   ],
   "source": [
    "#check which statistic is most useful to train model with segmentation masks\n",
    "# statistics include: mean, standard deviation, variance, skewnee, kurtosis, entropy\n",
    "\n",
    "#load in the data\n",
    "hard_image = '/media/krishar1/Elements1/AnatomyConstrainedMultipathGAN/B30f_B50f/hard_masked/118866/118866.nii.gz'\n",
    "soft_image = '/media/krishar1/Elements1/AnatomyConstrainedMultipathGAN/B30f_B50f/soft_masked/118866/118866.nii.gz'\n",
    "hard_img = nib.load(hard_image)\n",
    "soft_img = nib.load(soft_image)\n",
    "hard_data = hard_img.get_fdata()\n",
    "soft_data = soft_img.get_fdata()\n",
    "\n",
    "#Clip and normalize the image \n",
    "clipped_hard = np.clip(hard_data, -1024, 3072)\n",
    "clipped_soft = np.clip(soft_data, -1024, 3072)\n",
    "normalizer = interp1d([-1024,3072], [-1,1])\n",
    "norm_data_hard = normalizer(clipped_hard)\n",
    "norm_data_soft = normalizer(clipped_soft)\n",
    "\n",
    "#calculate the statistics\n",
    "hard_mean = np.mean(norm_data_hard)\n",
    "soft_mean = np.mean(norm_data_soft)\n",
    "hard_mean, soft_mean"
   ]
  },
  {
   "cell_type": "code",
   "execution_count": 10,
   "metadata": {},
   "outputs": [
    {
     "data": {
      "text/plain": [
       "(-0.7883954646948472, -0.7892098149730671)"
      ]
     },
     "execution_count": 10,
     "metadata": {},
     "output_type": "execute_result"
    }
   ],
   "source": [
    "hard_image = '/media/krishar1/Elements1/AnatomyConstrainedMultipathGAN/B30f_B50f/hard_masked/119764/119764.nii.gz'\n",
    "soft_image = '/media/krishar1/Elements1/AnatomyConstrainedMultipathGAN/B30f_B50f/soft_masked/119764/119764.nii.gz'\n",
    "hard_img = nib.load(hard_image)\n",
    "soft_img = nib.load(soft_image)\n",
    "hard_data = hard_img.get_fdata()\n",
    "soft_data = soft_img.get_fdata()\n",
    "\n",
    "#Clip and normalize the image \n",
    "clipped_hard = np.clip(hard_data, -1024, 3072)\n",
    "clipped_soft = np.clip(soft_data, -1024, 3072)\n",
    "normalizer = interp1d([-1024,3072], [-1,1])\n",
    "norm_data_hard = normalizer(clipped_hard)\n",
    "norm_data_soft = normalizer(clipped_soft)\n",
    "\n",
    "#calculate the statistics\n",
    "hard_mean = np.mean(norm_data_hard)\n",
    "soft_mean = np.mean(norm_data_soft)\n",
    "hard_mean, soft_mean"
   ]
  },
  {
   "cell_type": "code",
   "execution_count": null,
   "metadata": {},
   "outputs": [],
   "source": [
    "muscle_hard = nib.load('/media/krishar1/Elements1/AnatomyConstrainedMultipathGAN/B30f_B50f/hard_masked/118866/segmentations/skeletal_muscle.nii.gz')\n",
    "fat_hard = nib.load(\"/media/krishar1/Elements1/AnatomyConstrainedMultipathGAN/B30f_B50f/hard_masked/118866/segmentations/\")"
   ]
  },
  {
   "cell_type": "code",
   "execution_count": null,
   "metadata": {},
   "outputs": [
    {
     "data": {
      "text/plain": [
       "(29.43140775659209,\n",
       " 114.1758257725864,\n",
       " -103.8989985012111,\n",
       " 98.41642368046736,\n",
       " 31.53152766845362,\n",
       " 50.26436155494546,\n",
       " -101.62994936328461,\n",
       " 41.0206963352474)"
      ]
     },
     "execution_count": 3,
     "metadata": {},
     "output_type": "execute_result"
    }
   ],
   "source": [
    "# Load multiple masks. Explore mean and std of the image within the mask \n",
    "muscle_hard = nib.load('/media/krishar1/Elements1/AnatomyConstrainedMultipathGAN/B30f_B50f/hard_masked/118866/segmentations/skeletal_muscle.nii.gz')\n",
    "fat_hard = nib.load('/valiant02/masi/krishar1/TotalSegmentator_masks_CTkernel_MIDL/B30f_B50f/hard_masked/119178/segmentations/subcutaneous_fat.nii.gz')\n",
    "muscle_soft = nib.load('/valiant02/masi/krishar1/TotalSegmentator_masks_CTkernel_MIDL/B30f_B50f/soft_masked/119178/segmentations/skeletal_muscle.nii.gz')\n",
    "fat_soft = nib.load('/valiant02/masi/krishar1/TotalSegmentator_masks_CTkernel_MIDL/B30f_B50f/soft_masked/119178/segmentations/subcutaneous_fat.nii.gz')\n",
    "muscle_data = muscle_hard.get_fdata()\n",
    "fat_data = fat_hard.get_fdata()\n",
    "muscle_soft_data = muscle_soft.get_fdata()\n",
    "fat_soft_data = fat_soft.get_fdata()\n",
    "\n",
    "#calculate the statistics using the muscle mask in the image \n",
    "muscle_mean = np.mean(hard_data[muscle_data == 1])\n",
    "muscle_std = np.std(hard_data[muscle_data == 1])\n",
    "fat_mean = np.mean(hard_data[fat_data == 1])\n",
    "fat_std = np.std(hard_data[fat_data == 1])\n",
    "\n",
    "muscle_soft_mean = np.mean(soft_data[muscle_soft_data == 1])\n",
    "muscle_soft_std = np.std(soft_data[muscle_soft_data == 1])\n",
    "fat_soft_mean = np.mean(soft_data[fat_soft_data == 1])\n",
    "fat_soft_std = np.std(soft_data[fat_soft_data == 1])\n",
    "\n",
    "muscle_mean, muscle_soft_mean, muscle_std, muscle_soft_std, fat_mean, fat_soft_mean, fat_std, fat_soft_std"
   ]
  },
  {
   "cell_type": "code",
   "execution_count": 4,
   "metadata": {},
   "outputs": [
    {
     "data": {
      "image/png": "[encoded data removed]",
      "text/plain": [
       "<Figure size 640x480 with 1 Axes>"
      ]
     },
     "metadata": {},
     "output_type": "display_data"
    }
   ],
   "source": [
    "#Plot histogram of the image data \n",
    "plt.hist(hard_data.flatten(), bins=100, alpha=0.5, label='hard')\n",
    "plt.hist(soft_data.flatten(), bins=100, alpha=0.5, label='soft')\n",
    "plt.legend(loc='upper right')\n",
    "plt.show()"
   ]
  },
  {
   "cell_type": "markdown",
   "metadata": {},
   "source": [
    "### Tissue statistic using multilable image"
   ]
  },
  {
   "cell_type": "code",
   "execution_count": null,
   "metadata": {},
   "outputs": [],
   "source": [
    "hard_image = nib.load(\"/media/krishar1/Elements1/AnatomyConstrainedMultipathGAN/B30f_B50f/hard_masked/122924/122924.nii.gz\")\n",
    "hard_mask = nib.load(\"/home-local/Kernel_Conversion/AnatomyConstrainedMultipathGAN/AnatomyconstrainedMultipathGAN/basic_experiments/mask.nii.gz\")\n",
    "\n",
    "hard_image_data = hard_image.get_fdata()\n",
    "hard_image_mask = hard_mask.get_fdata()\n",
    "\n",
    "fused_mask = np.where(hard_image_mask > 0, 1, 0) #Fuse all the labels into one for computing statistics\n",
    "nifti_mask = nib.Nifti1Image(fused_mask, hard_mask.affine, hard_mask.header)\n",
    "nib.save(nifti_mask, \"fused_mask.nii.gz\")"
   ]
  }
 ],
 "metadata": {
  "kernelspec": {
   "display_name": "lung2",
   "language": "python",
   "name": "python3"
  },
  "language_info": {
   "codemirror_mode": {
    "name": "ipython",
    "version": 3
   },
   "file_extension": ".py",
   "mimetype": "text/x-python",
   "name": "python",
   "nbconvert_exporter": "python",
   "pygments_lexer": "ipython3",
   "version": "3.7.16"
  }
 },
 "nbformat": 4,
 "nbformat_minor": 2
}
