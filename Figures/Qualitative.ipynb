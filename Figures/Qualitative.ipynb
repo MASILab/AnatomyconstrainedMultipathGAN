{
 "cells": [
  {
   "cell_type": "code",
   "execution_count": 30,
   "metadata": {},
   "outputs": [],
   "source": [
    "import nibabel as nib \n",
    "import matplotlib.pyplot as plt \n",
    "import numpy as np\n",
    "import seaborn as sns \n",
    "import matplotlib.colors as mcolors"
   ]
  },
  {
   "cell_type": "code",
   "execution_count": 3,
   "metadata": {},
   "outputs": [],
   "source": [
    "#load real images \n",
    "b50f = nib.load(\"/nfs/masi/krishar1/KernelConversionUnpaired/SPIE_journal_extension/journal_inference_additional_data/data.application/B30f_B50f/hard/ct_masked/205803.nii.gz\").get_fdata()\n",
    "b30f = nib.load(\"/nfs/masi/krishar1/KernelConversionUnpaired/SPIE_journal_extension/journal_inference_additional_data/data.application/B30f_B50f/soft/ct_masked/106068.nii.gz\").get_fdata()\n",
    "bone = nib.load(\"/nfs/masi/krishar1/KernelConversionUnpaired/SPIE_journal_extension/journal_inference_additional_data/data.application/STANDARD_BONE/hard/ct/125287.nii.gz\").get_fdata()\n",
    "std = nib.load(\"/nfs/masi/krishar1/KernelConversionUnpaired/SPIE_journal_extension/journal_inference_additional_data/data.application/STANDARD_BONE/soft/ct/122916.nii.gz\").get_fdata()\n",
    "\n",
    "b50fx,b50y,b50z = b50f.shape\n",
    "b30fx,b30y,b30z = b30f.shape\n",
    "bonex,boney,bonez = bone.shape\n",
    "stdx,stdy,stdz = std.shape"
   ]
  },
  {
   "cell_type": "code",
   "execution_count": 4,
   "metadata": {},
   "outputs": [],
   "source": [
    "#CycleGAN model \n",
    "b50f_cycle = nib.load(\"/nfs/masi/krishar1/KernelConversionUnpaired/SPIE_journal_extension/baseline_results/vanillacyclegan_withheldtest_data_baseline_results/B50ftoB30f/205803.nii.gz\").get_fdata()\n",
    "bonetob30f = nib.load(\"/nfs/masi/krishar1/KernelConversionUnpaired/SPIE_journal_extension/baseline_results/vanillacyclegan_withheldtest_data_baseline_results/BONEtoB30f/125287.nii.gz\").get_fdata()\n",
    "stdtob30f = nib.load(\"/nfs/masi/krishar1/KernelConversionUnpaired/SPIE_journal_extension/baseline_results/vanillacyclegan_withheldtest_data_baseline_results/STDtoB30f/122916.nii.gz\").get_fdata()\n",
    "\n",
    "b50f_cycle_x,b50f_cycle_y,b50f_cycle_z = b50f_cycle.shape\n",
    "bonetob30f_x,bonetob30f_y,bonetob30f_z = bonetob30f.shape\n",
    "stdtob30f_x,stdtob30f_y,stdtob30f_z = stdtob30f.shape"
   ]
  },
  {
   "cell_type": "code",
   "execution_count": 5,
   "metadata": {},
   "outputs": [],
   "source": [
    "#siwthcable cycleGAN model \n",
    "b50f_switch = nib.load(\"/nfs/masi/krishar1/KernelConversionUnpaired/SPIE_journal_extension/baseline_results/switchcyclegan_inference_data_results/B50ftoB30f/205803.nii.gz\").get_fdata()\n",
    "bonetob30f_switch = nib.load(\"/nfs/masi/krishar1/KernelConversionUnpaired/SPIE_journal_extension/baseline_results/switchcyclegan_inference_data_results/BONEtoB30f/125287.nii.gz\").get_fdata()\n",
    "stdtob30f_switch = nib.load(\"/nfs/masi/krishar1/KernelConversionUnpaired/SPIE_journal_extension/baseline_results/switchcyclegan_inference_data_results/STDtoB30f/122916.nii.gz\").get_fdata()\n",
    "\n",
    "b50f_switch_x,b50f_switch_y,b50f_switch_z = b50f_switch.shape\n",
    "bonetob30f_switch_x,bonetob30f_switch_y,bonetob30f_switch_z = bonetob30f_switch.shape\n",
    "stdtob30f_switch_x,stdtob30f_switch_y,stdtob30f_switch_z = stdtob30f_switch.shape"
   ]
  },
  {
   "cell_type": "code",
   "execution_count": 6,
   "metadata": {},
   "outputs": [],
   "source": [
    "#multipath cycleGAN model\n",
    "b50f_multipath = nib.load(\"/nfs/masi/krishar1/KernelConversionUnpaired/SPIE_journal_extension/starganL2weightsched_resnetbackbone/withheld_test_harmonized_images/B50ftoB30f/205803.nii.gz\").get_fdata()\n",
    "bonetob30f_multipath = nib.load(\"/nfs/masi/krishar1/KernelConversionUnpaired/SPIE_journal_extension/starganL2weightsched_resnetbackbone/withheld_test_harmonized_images/BONEtoB30f/125287.nii.gz\").get_fdata()\n",
    "stdtob30f_multipath = nib.load(\"/nfs/masi/krishar1/KernelConversionUnpaired/SPIE_journal_extension/starganL2weightsched_resnetbackbone/withheld_test_harmonized_images/STDtoB30f/122916.nii.gz\").get_fdata()\n",
    "\n",
    "b50f_multipath_x,b50f_multipath_y,b50f_multipath_z = b50f_multipath.shape\n",
    "bonetob30f_multipath_x,bonetob30f_multipath_y,bonetob30f_multipath_z = bonetob30f_multipath.shape\n",
    "stdtob30f_multipath_x,stdtob30f_multipath_y,stdtob30f_multipath_z = stdtob30f_multipath.shape"
   ]
  },
  {
   "cell_type": "code",
   "execution_count": 7,
   "metadata": {},
   "outputs": [],
   "source": [
    "#Multipath with anatomy \n",
    "b50f_multipath_anatomy = nib.load(\"/valiant02/masi/krishar1/MIDL_experiments/multipathgan_seg_identity_experiments_1-19-25/INFERENCE/B50ftoB30f/205803.nii.gz\").get_fdata()\n",
    "bonetob30f_multipath_anatomy = nib.load(\"/valiant02/masi/krishar1/MIDL_experiments/multipathgan_seg_identity_experiments_1-19-25/INFERENCE/BONEtoB30f/125287.nii.gz\").get_fdata()\n",
    "stdtob30f_multipath_anatomy = nib.load(\"/valiant02/masi/krishar1/MIDL_experiments/multipathgan_seg_identity_experiments_1-19-25/INFERENCE/STDtoB30f/122916.nii.gz\").get_fdata()\n",
    "\n",
    "b50f_multipath_anatomy_x,b50f_multipath_anatomy_y,b50f_multipath_anatomy_z = b50f_multipath_anatomy.shape\n",
    "bonetob30f_multipath_anatomy_x,bonetob30f_multipath_anatomy_y,bonetob30f_multipath_anatomy_z = bonetob30f_multipath_anatomy.shape\n",
    "stdtob30f_multipath_anatomy_x,stdtob30f_multipath_anatomy_y,stdtob30f_multipath_anatomy_z = stdtob30f_multipath_anatomy.shape"
   ]
  },
  {
   "cell_type": "code",
   "execution_count": 11,
   "metadata": {},
   "outputs": [],
   "source": [
    "#Plot each image \n",
    "def plot_CT_image(plane, output_path):\n",
    "    plt.figure(figsize = (5,5), facecolor=\"w\")\n",
    "    plt.imshow(plane, cmap = \"gray\", vmin=-1000, vmax = 0)\n",
    "    plt.axis('off')\n",
    "    plt.gcf().set_dpi(300)\n",
    "#plt.title(\"Siemens B50f\")\n",
    "    plt.savefig(output_path, bbox_inches='tight', pad_inches=0.1, dpi=600, format = \"tiff\")\n",
    "    print(f\"Saved image to {output_path}\")\n",
    "    # plt.show()\n",
    "    plt.close()\n",
    "\n",
    "def clip_LAS(img, xyz):\n",
    "    \"\"\"Flips the image to the right orientation\"\"\"\n",
    "    x, y , z = xyz\n",
    "    clip_sag = img[x, :, :]\n",
    "    clip_sag = np.flip(clip_sag, 0)\n",
    "    clip_sag = np.rot90(clip_sag)\n",
    "    clip_cor = img[:, y, :]\n",
    "    clip_cor = np.rot90(clip_cor)\n",
    "    clip_ax = img[:, :, z]\n",
    "    clip_ax = np.rot90(clip_ax)\n",
    "    return (clip_sag, clip_cor, clip_ax)\n",
    "\n",
    "def readimage(imagepath):\n",
    "    img = nib.load(imagepath).get_fdata()\n",
    "    x,y,z = img.shape\n",
    "    clip_sag, clip_cor, clip_ax = clip_LAS(img, (x//2, y//2, z//2))\n",
    "    return clip_ax "
   ]
  },
  {
   "cell_type": "code",
   "execution_count": 12,
   "metadata": {},
   "outputs": [],
   "source": [
    "b50f = readimage(\"/nfs/masi/krishar1/KernelConversionUnpaired/SPIE_journal_extension/journal_inference_additional_data/data.application/B30f_B50f/hard/ct_masked/205803.nii.gz\")\n",
    "b30f = readimage(\"/nfs/masi/krishar1/KernelConversionUnpaired/SPIE_journal_extension/journal_inference_additional_data/data.application/B30f_B50f/soft/ct_masked/106068.nii.gz\")\n",
    "bone = readimage(\"/nfs/masi/krishar1/KernelConversionUnpaired/SPIE_journal_extension/journal_inference_additional_data/data.application/STANDARD_BONE/hard/ct/125287.nii.gz\")\n",
    "std = readimage(\"/nfs/masi/krishar1/KernelConversionUnpaired/SPIE_journal_extension/journal_inference_additional_data/data.application/STANDARD_BONE/soft/ct/122916.nii.gz\")\n",
    "\n",
    "b50f_cycle = readimage(\"/nfs/masi/krishar1/KernelConversionUnpaired/SPIE_journal_extension/baseline_results/vanillacyclegan_withheldtest_data_baseline_results/B50ftoB30f/205803.nii.gz\")\n",
    "bonetob30f = readimage(\"/nfs/masi/krishar1/KernelConversionUnpaired/SPIE_journal_extension/baseline_results/vanillacyclegan_withheldtest_data_baseline_results/BONEtoB30f/125287.nii.gz\")\n",
    "stdtob30f = readimage(\"/nfs/masi/krishar1/KernelConversionUnpaired/SPIE_journal_extension/baseline_results/vanillacyclegan_withheldtest_data_baseline_results/STDtoB30f/122916.nii.gz\")\n",
    "\n",
    "b50f_switch = readimage(\"/nfs/masi/krishar1/KernelConversionUnpaired/SPIE_journal_extension/baseline_results/switchcyclegan_inference_data_results/B50ftoB30f/205803.nii.gz\")\n",
    "bonetob30f_switch = readimage(\"/nfs/masi/krishar1/KernelConversionUnpaired/SPIE_journal_extension/baseline_results/switchcyclegan_inference_data_results/BONEtoB30f/125287.nii.gz\")\n",
    "stdtob30f_switch = readimage(\"/nfs/masi/krishar1/KernelConversionUnpaired/SPIE_journal_extension/baseline_results/switchcyclegan_inference_data_results/STDtoB30f/122916.nii.gz\")\n",
    "\n",
    "b50f_multipath = readimage(\"/nfs/masi/krishar1/KernelConversionUnpaired/SPIE_journal_extension/starganL2weightsched_resnetbackbone/withheld_test_harmonized_images/B50ftoB30f/205803.nii.gz\")\n",
    "bonetob30f_multipath = readimage(\"/nfs/masi/krishar1/KernelConversionUnpaired/SPIE_journal_extension/starganL2weightsched_resnetbackbone/withheld_test_harmonized_images/BONEtoB30f/125287.nii.gz\")\n",
    "stdtob30f_multipath = readimage(\"/nfs/masi/krishar1/KernelConversionUnpaired/SPIE_journal_extension/starganL2weightsched_resnetbackbone/withheld_test_harmonized_images/STDtoB30f/122916.nii.gz\")\n",
    "\n",
    "b50f_multipath_anatomy = readimage(\"/valiant02/masi/krishar1/MIDL_experiments/multipathgan_seg_identity_experiments_1-19-25/INFERENCE/B50ftoB30f/205803.nii.gz\")\n",
    "bonetob30f_multipath_anatomy = readimage(\"/valiant02/masi/krishar1/MIDL_experiments/multipathgan_seg_identity_experiments_1-19-25/INFERENCE/BONEtoB30f/125287.nii.gz\")\n",
    "stdtob30f_multipath_anatomy = readimage(\"/valiant02/masi/krishar1/MIDL_experiments/multipathgan_seg_identity_experiments_1-19-25/INFERENCE/STDtoB30f/122916.nii.gz\")"
   ]
  },
  {
   "cell_type": "code",
   "execution_count": 13,
   "metadata": {},
   "outputs": [
    {
     "name": "stdout",
     "output_type": "stream",
     "text": [
      "Saved image to /valiant02/masi/krishar1/MIDL_experiments/multipathgan_seg_identity_experiments_1-19-25/INFERENCE/Figures/Qualitative/b50f.tiff\n",
      "Saved image to /valiant02/masi/krishar1/MIDL_experiments/multipathgan_seg_identity_experiments_1-19-25/INFERENCE/Figures/Qualitative/b30f.tiff\n",
      "Saved image to /valiant02/masi/krishar1/MIDL_experiments/multipathgan_seg_identity_experiments_1-19-25/INFERENCE/Figures/Qualitative/bone.tiff\n",
      "Saved image to /valiant02/masi/krishar1/MIDL_experiments/multipathgan_seg_identity_experiments_1-19-25/INFERENCE/Figures/Qualitative/std.tiff\n",
      "Saved image to /valiant02/masi/krishar1/MIDL_experiments/multipathgan_seg_identity_experiments_1-19-25/INFERENCE/Figures/Qualitative/b50f_cycleGAN.tiff\n",
      "Saved image to /valiant02/masi/krishar1/MIDL_experiments/multipathgan_seg_identity_experiments_1-19-25/INFERENCE/Figures/Qualitative/bonetob30f_cycleGAN.tiff\n",
      "Saved image to /valiant02/masi/krishar1/MIDL_experiments/multipathgan_seg_identity_experiments_1-19-25/INFERENCE/Figures/Qualitative/stdtob30f_cycleGAN.tiff\n",
      "Saved image to /valiant02/masi/krishar1/MIDL_experiments/multipathgan_seg_identity_experiments_1-19-25/INFERENCE/Figures/Qualitative/b50f_switch.tiff\n",
      "Saved image to /valiant02/masi/krishar1/MIDL_experiments/multipathgan_seg_identity_experiments_1-19-25/INFERENCE/Figures/Qualitative/bonetob30f_switch.tiff\n",
      "Saved image to /valiant02/masi/krishar1/MIDL_experiments/multipathgan_seg_identity_experiments_1-19-25/INFERENCE/Figures/Qualitative/stdtob30f_switch.tiff\n",
      "Saved image to /valiant02/masi/krishar1/MIDL_experiments/multipathgan_seg_identity_experiments_1-19-25/INFERENCE/Figures/Qualitative/b50f_multipath.tiff\n",
      "Saved image to /valiant02/masi/krishar1/MIDL_experiments/multipathgan_seg_identity_experiments_1-19-25/INFERENCE/Figures/Qualitative/bonetob30f_multipath.tiff\n",
      "Saved image to /valiant02/masi/krishar1/MIDL_experiments/multipathgan_seg_identity_experiments_1-19-25/INFERENCE/Figures/Qualitative/stdtob30f_multipath.tiff\n",
      "Saved image to /valiant02/masi/krishar1/MIDL_experiments/multipathgan_seg_identity_experiments_1-19-25/INFERENCE/Figures/Qualitative/b50f_multipath_anatomy.tiff\n",
      "Saved image to /valiant02/masi/krishar1/MIDL_experiments/multipathgan_seg_identity_experiments_1-19-25/INFERENCE/Figures/Qualitative/bonetob30f_multipath_anatomy.tiff\n",
      "Saved image to /valiant02/masi/krishar1/MIDL_experiments/multipathgan_seg_identity_experiments_1-19-25/INFERENCE/Figures/Qualitative/stdtob30f_multipath_anatomy.tiff\n"
     ]
    }
   ],
   "source": [
    "plot_CT_image(b50f, \"/valiant02/masi/krishar1/MIDL_experiments/multipathgan_seg_identity_experiments_1-19-25/INFERENCE/Figures/Qualitative/b50f.tiff\")\n",
    "plot_CT_image(b30f, \"/valiant02/masi/krishar1/MIDL_experiments/multipathgan_seg_identity_experiments_1-19-25/INFERENCE/Figures/Qualitative/b30f.tiff\")\n",
    "plot_CT_image(bone, \"/valiant02/masi/krishar1/MIDL_experiments/multipathgan_seg_identity_experiments_1-19-25/INFERENCE/Figures/Qualitative/bone.tiff\")\n",
    "plot_CT_image(std, \"/valiant02/masi/krishar1/MIDL_experiments/multipathgan_seg_identity_experiments_1-19-25/INFERENCE/Figures/Qualitative/std.tiff\")\n",
    "\n",
    "plot_CT_image(b50f_cycle, \"/valiant02/masi/krishar1/MIDL_experiments/multipathgan_seg_identity_experiments_1-19-25/INFERENCE/Figures/Qualitative/b50f_cycleGAN.tiff\")\n",
    "plot_CT_image(bonetob30f, \"/valiant02/masi/krishar1/MIDL_experiments/multipathgan_seg_identity_experiments_1-19-25/INFERENCE/Figures/Qualitative/bonetob30f_cycleGAN.tiff\")\n",
    "plot_CT_image(stdtob30f, \"/valiant02/masi/krishar1/MIDL_experiments/multipathgan_seg_identity_experiments_1-19-25/INFERENCE/Figures/Qualitative/stdtob30f_cycleGAN.tiff\")\n",
    "\n",
    "plot_CT_image(b50f_switch, \"/valiant02/masi/krishar1/MIDL_experiments/multipathgan_seg_identity_experiments_1-19-25/INFERENCE/Figures/Qualitative/b50f_switch.tiff\")\n",
    "plot_CT_image(bonetob30f_switch, \"/valiant02/masi/krishar1/MIDL_experiments/multipathgan_seg_identity_experiments_1-19-25/INFERENCE/Figures/Qualitative/bonetob30f_switch.tiff\")\n",
    "plot_CT_image(stdtob30f_switch, \"/valiant02/masi/krishar1/MIDL_experiments/multipathgan_seg_identity_experiments_1-19-25/INFERENCE/Figures/Qualitative/stdtob30f_switch.tiff\")\n",
    "\n",
    "plot_CT_image(b50f_multipath, \"/valiant02/masi/krishar1/MIDL_experiments/multipathgan_seg_identity_experiments_1-19-25/INFERENCE/Figures/Qualitative/b50f_multipath.tiff\")\n",
    "plot_CT_image(bonetob30f_multipath, \"/valiant02/masi/krishar1/MIDL_experiments/multipathgan_seg_identity_experiments_1-19-25/INFERENCE/Figures/Qualitative/bonetob30f_multipath.tiff\")\n",
    "plot_CT_image(stdtob30f_multipath, \"/valiant02/masi/krishar1/MIDL_experiments/multipathgan_seg_identity_experiments_1-19-25/INFERENCE/Figures/Qualitative/stdtob30f_multipath.tiff\")\n",
    "\n",
    "plot_CT_image(b50f_multipath_anatomy, \"/valiant02/masi/krishar1/MIDL_experiments/multipathgan_seg_identity_experiments_1-19-25/INFERENCE/Figures/Qualitative/b50f_multipath_anatomy.tiff\")\n",
    "plot_CT_image(bonetob30f_multipath_anatomy, \"/valiant02/masi/krishar1/MIDL_experiments/multipathgan_seg_identity_experiments_1-19-25/INFERENCE/Figures/Qualitative/bonetob30f_multipath_anatomy.tiff\")\n",
    "plot_CT_image(stdtob30f_multipath_anatomy, \"/valiant02/masi/krishar1/MIDL_experiments/multipathgan_seg_identity_experiments_1-19-25/INFERENCE/Figures/Qualitative/stdtob30f_multipath_anatomy.tiff\")"
   ]
  },
  {
   "cell_type": "markdown",
   "metadata": {},
   "source": [
    "## Method figure for paper "
   ]
  },
  {
   "cell_type": "code",
   "execution_count": 24,
   "metadata": {},
   "outputs": [],
   "source": [
    "#Plot each image \n",
    "def plot_CT_image(plane, output_path):\n",
    "    plt.figure(figsize = (5,5), facecolor=\"w\")\n",
    "    plt.imshow(plane, cmap = \"gray\", vmin=-150, vmax = 150)\n",
    "    plt.axis('off')\n",
    "    plt.gcf().set_dpi(300)\n",
    "#plt.title(\"Siemens B50f\")\n",
    "    plt.savefig(output_path, bbox_inches='tight', pad_inches=0.1, dpi=600, format = \"tiff\")\n",
    "    print(f\"Saved image to {output_path}\")\n",
    "    # plt.show()\n",
    "    plt.close()\n",
    "\n",
    "def clip_LAS(img, xyz):\n",
    "    \"\"\"Flips the image to the right orientation\"\"\"\n",
    "    x, y , z = xyz\n",
    "    clip_sag = img[x, :, :]\n",
    "    clip_sag = np.flip(clip_sag, 0)\n",
    "    clip_sag = np.rot90(clip_sag)\n",
    "    clip_cor = img[:, y, :]\n",
    "    clip_cor = np.rot90(clip_cor)\n",
    "    clip_ax = img[:, :, z]\n",
    "    clip_ax = np.rot90(clip_ax)\n",
    "    return (clip_sag, clip_cor, clip_ax)\n",
    "\n",
    "def readimage(imagepath):\n",
    "    img = nib.load(imagepath).get_fdata()\n",
    "    x,y,z = img.shape\n",
    "    clip_sag, clip_cor, clip_ax = clip_LAS(img, (x//2, y//2, z//2))\n",
    "    return clip_ax "
   ]
  },
  {
   "cell_type": "code",
   "execution_count": 73,
   "metadata": {},
   "outputs": [],
   "source": [
    "real_b50f_mask = readimage(\"/home-local/Kernel_Conversion/AnatomyConstrainedMultipathGAN/AnatomyconstrainedMultipathGAN/training_data/siemens_hard_slices/101829_068.nii.gz\")\n",
    "real_b30f_mask = readimage(\"/home-local/Kernel_Conversion/AnatomyConstrainedMultipathGAN/AnatomyconstrainedMultipathGAN/training_data/siemens_soft_slices/101829_068.nii.gz\")\n",
    "real_b50f = readimage(\"/home-local/Kernel_Conversion/MultipathKernelConversion_forA6000/multipath_data_journalextension/train_siemens_masked_hard/101829_068.nii.gz\")\n",
    "real_b30f = readimage(\"/home-local/Kernel_Conversion/MultipathKernelConversion_forA6000/multipath_data_journalextension/train_siemens_masked_soft/101829_068.nii.gz\") "
   ]
  },
  {
   "cell_type": "code",
   "execution_count": 74,
   "metadata": {},
   "outputs": [
    {
     "name": "stdout",
     "output_type": "stream",
     "text": [
      "Saved image to /valiant02/masi/krishar1/MIDL_experiments/multipathgan_seg_identity_experiments_1-19-25/INFERENCE/Figures/Method/real_b50f.tiff\n",
      "Saved image to /valiant02/masi/krishar1/MIDL_experiments/multipathgan_seg_identity_experiments_1-19-25/INFERENCE/Figures/Method/real_b30f.tiff\n"
     ]
    }
   ],
   "source": [
    "plot_CT_image(real_b50f, \"/valiant02/masi/krishar1/MIDL_experiments/multipathgan_seg_identity_experiments_1-19-25/INFERENCE/Figures/Method/real_b50f.tiff\")\n",
    "plot_CT_image(real_b30f, \"/valiant02/masi/krishar1/MIDL_experiments/multipathgan_seg_identity_experiments_1-19-25/INFERENCE/Figures/Method/real_b30f.tiff\")"
   ]
  },
  {
   "cell_type": "code",
   "execution_count": 61,
   "metadata": {},
   "outputs": [
    {
     "data": {
      "text/plain": [
       "(512, 512)"
      ]
     },
     "execution_count": 61,
     "metadata": {},
     "output_type": "execute_result"
    }
   ],
   "source": [
    "real_b50f.shape"
   ]
  },
  {
   "cell_type": "code",
   "execution_count": 67,
   "metadata": {},
   "outputs": [
    {
     "data": {
      "image/png": "[encoded data removed]",
      "text/plain": [
       "<Figure size 1920x1440 with 1 Axes>"
      ]
     },
     "metadata": {},
     "output_type": "display_data"
    }
   ],
   "source": [
    "unique_labels = np.unique(real_b50f_mask)\n",
    "unique_labels = unique_labels[unique_labels != 0]\n",
    "\n",
    "cmap = plt.cm.get_cmap('tab20', len(unique_labels) -1)  # Use 'tab10' for distinct colors\n",
    "color_map = {label: cmap(i) for i, label in enumerate(unique_labels) if label != 0}\n",
    "color_map[0] = (0, 0, 0, 1)\n",
    "\n",
    "\n",
    "colour_image = np.zeros((*real_b50f_mask.shape, 4))\n",
    "for label, color in color_map.items():\n",
    "    colour_image[real_b50f_mask == label] = color\n",
    "\n",
    "plt.imshow(colour_image)\n",
    "plt.axis('off')\n",
    "plt.gcf().set_dpi(300)\n",
    "plt.savefig(\"/valiant02/masi/krishar1/MIDL_experiments/multipathgan_seg_identity_experiments_1-19-25/INFERENCE/Figures/Method/real_b50f_mask.tiff\", bbox_inches='tight', pad_inches=0.1, dpi=300, format = \"tiff\")"
   ]
  },
  {
   "cell_type": "code",
   "execution_count": 68,
   "metadata": {},
   "outputs": [
    {
     "data": {
      "image/png": "[encoded data removed]",
      "text/plain": [
       "<Figure size 1920x1440 with 1 Axes>"
      ]
     },
     "metadata": {},
     "output_type": "display_data"
    }
   ],
   "source": [
    "colour_image_soft  = np.zeros((*real_b30f_mask.shape, 4))\n",
    "for label, color in color_map.items():\n",
    "    colour_image_soft[real_b30f_mask == label] = color\n",
    "\n",
    "plt.imshow(colour_image_soft)\n",
    "plt.axis('off')\n",
    "plt.gcf().set_dpi(300)\n",
    "plt.savefig(\"/valiant02/masi/krishar1/MIDL_experiments/multipathgan_seg_identity_experiments_1-19-25/INFERENCE/Figures/Method/real_b30f_mask.tiff\", bbox_inches='tight', pad_inches=0.1, dpi=300, format = \"tiff\")"
   ]
  },
  {
   "cell_type": "code",
   "execution_count": null,
   "metadata": {},
   "outputs": [],
   "source": []
  }
 ],
 "metadata": {
  "kernelspec": {
   "display_name": "lung2",
   "language": "python",
   "name": "python3"
  },
  "language_info": {
   "codemirror_mode": {
    "name": "ipython",
    "version": 3
   },
   "file_extension": ".py",
   "mimetype": "text/x-python",
   "name": "python",
   "nbconvert_exporter": "python",
   "pygments_lexer": "ipython3",
   "version": "3.7.16"
  }
 },
 "nbformat": 4,
 "nbformat_minor": 2
}
