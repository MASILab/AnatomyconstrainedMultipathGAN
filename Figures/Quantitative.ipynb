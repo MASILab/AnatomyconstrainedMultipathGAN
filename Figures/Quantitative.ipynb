{
 "cells": [
  {
   "cell_type": "code",
   "execution_count": null,
   "metadata": {},
   "outputs": [],
   "source": [
    "import nibabel as nib \n",
    "import os \n",
    "import matplotlib.pyplot as plt \n",
    "import numpy as np \n",
    "import seaborn as sns \n",
    "from skimage.metrics import mean_squared_error as mse\n",
    "from scipy.spatial.distance import jensenshannon\n",
    "import pandas as pd\n",
    "from tqdm import tqdm\n",
    "from math import log10\n",
    "from scipy.stats import entropy\n",
    "from scipy.interpolate import make_interp_spline\n",
    "from scipy.stats import rankdata\n",
    "from ridgeplot import ridgeplot\n",
    "import ptitprince as pt\n",
    "from scipy.stats import wilcoxon, ranksums, mannwhitneyu\n",
    "from statannotations.Annotator import Annotator"
   ]
  }
 ],
 "metadata": {
  "language_info": {
   "name": "python"
  }
 },
 "nbformat": 4,
 "nbformat_minor": 2
}
